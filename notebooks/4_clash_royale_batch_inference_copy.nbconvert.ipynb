{
 "cells": [
  {
   "cell_type": "markdown",
   "metadata": {},
   "source": [
    "# <span style=\"font-width:bold; font-size: 3rem; color:#1EB182;\"> **Clash Royale Predictions** </span><span style=\"font-width:bold; font-size: 3rem; color:#333;\">- Part 04: Batch Inference</span>\n",
    "\n",
    "## 🗒️ This notebook is divided into the following sections:\n",
    "\n",
    "1. Download model and batch inference data\n",
    "2. Make predictions, generate PNG for forecast\n",
    "3. Store predictions in a monitoring feature group adn generate PNG for hindcast"
   ]
  },
  {
   "cell_type": "code",
   "execution_count": 1,
   "metadata": {
    "execution": {
     "iopub.execute_input": "2025-01-08T12:56:56.081977Z",
     "iopub.status.busy": "2025-01-08T12:56:56.081781Z",
     "iopub.status.idle": "2025-01-08T12:56:59.372815Z",
     "shell.execute_reply": "2025-01-08T12:56:59.372225Z"
    }
   },
   "outputs": [
    {
     "name": "stdout",
     "output_type": "stream",
     "text": [
      "2025-01-08 12:56:57,414 INFO: Initializing external client\n"
     ]
    },
    {
     "name": "stdout",
     "output_type": "stream",
     "text": [
      "2025-01-08 12:56:57,414 INFO: Base URL: https://c.app.hopsworks.ai:443\n"
     ]
    },
    {
     "name": "stdout",
     "output_type": "stream",
     "text": [
      "2025-01-08 12:56:58,138 INFO: Python Engine initialized.\n"
     ]
    },
    {
     "name": "stdout",
     "output_type": "stream",
     "text": [
      "\n",
      "Logged in to project, explore it here https://c.app.hopsworks.ai:443/p/1175700\n"
     ]
    },
    {
     "name": "stdout",
     "output_type": "stream",
     "text": [
      "Downloading model artifact (0 dirs, 1 files)... \r",
      "Downloading model artifact (0 dirs, 1 files)... DONE\r"
     ]
    },
    {
     "data": {
      "text/plain": [
       "'/tmp/ccecc6c3-4ef0-4e00-9381-b9e4761d4096/clash_royale_xgboost_model/1'"
      ]
     },
     "execution_count": 1,
     "metadata": {},
     "output_type": "execute_result"
    }
   ],
   "source": [
    "import hopsworks\n",
    "import datetime\n",
    "import pandas as pd\n",
    "from xgboost import Booster, DMatrix  # Import DMatrix for predictions\n",
    "from sklearn.preprocessing import OneHotEncoder\n",
    "import numpy as np\n",
    "import json\n",
    "import os\n",
    "import requests\n",
    "\n",
    "with open('../data/hopsworks-api-key.txt', 'r') as file:\n",
    "    os.environ[\"HOPSWORKS_API_KEY\"] = file.read().rstrip()\n",
    "project = hopsworks.login()\n",
    "fs = project.get_feature_store() \n",
    "\n",
    "mr = project.get_model_registry()\n",
    "\n",
    "retrieved_model = mr.get_model(\n",
    "    name=\"clash_royale_xgboost_model\",\n",
    "    version=1,\n",
    ")\n",
    "\n",
    "# Download the saved model artifacts to a local directory\n",
    "saved_model_dir = retrieved_model.download()\n",
    "saved_model_dir"
   ]
  },
  {
   "cell_type": "code",
   "execution_count": 2,
   "metadata": {
    "execution": {
     "iopub.execute_input": "2025-01-08T12:56:59.375038Z",
     "iopub.status.busy": "2025-01-08T12:56:59.374832Z",
     "iopub.status.idle": "2025-01-08T12:56:59.746328Z",
     "shell.execute_reply": "2025-01-08T12:56:59.745791Z"
    }
   },
   "outputs": [
    {
     "name": "stdout",
     "output_type": "stream",
     "text": [
      "Error fetching battle log: 403 Client Error: Forbidden for url: https://api.clashroyale.com/v1/players/%232LGY9G/battlelog\n",
      "No battle log available.\n"
     ]
    }
   ],
   "source": [
    "# Replace this with your Clash Royale API token\n",
    "key_file_path = os.path.join('../data/clash-royale-api-key.txt')\n",
    "with open(key_file_path, 'r') as file:\n",
    "    api_key = file.read().strip()\n",
    "\n",
    "API_TOKEN = api_key\n",
    "PLAYER_TAG = \"#2LGY9G\"  # Replace with the player's tag (include the #)\n",
    "\n",
    "# Headers for the API request\n",
    "HEADERS = {\n",
    "    \"Authorization\": f\"Bearer {API_TOKEN}\"\n",
    "}\n",
    "\n",
    "# URL for player information\n",
    "BASE_URL = \"https://api.clashroyale.com/v1\"\n",
    "PLAYER_URL = f\"{BASE_URL}/players/{PLAYER_TAG.replace('#', '%23')}\"\n",
    "BATTLE_LOG_URL = f\"{PLAYER_URL}/battlelog\"\n",
    "\n",
    "MODEL_PATH = os.path.join(\"clash_royale_model\", \"model.json\")\n",
    "\n",
    "# Card ID mapping\n",
    "card_numbers = {\n",
    "    \"Archers\": 1, \"Archer Queen\": 2, \"Baby Dragon\": 3, \"Balloon\": 4, \"Bandit\": 5, \"Barbarians\": 6,\n",
    "    \"Bats\": 7, \"Battle Healer\": 8, \"Battle Ram\": 9, \"Bomber\": 10, \"Bowler\": 11, \"Bush Goblins\": 12,\n",
    "    \"Cannon Cart\": 13, \"Cursed Hog\": 14, \"Dark Prince\": 15, \"Dart Goblin\": 16, \"Electro Dragon\": 17,\n",
    "    \"Electro Giant\": 18, \"Electro Spirit\": 19, \"Electro Wizard\": 20, \"Elite Barbarians\": 21,\n",
    "    \"Elixir Blob\": 22, \"Elixir Golem\": 23, \"Elixir Golemite\": 24, \"Executioner\": 25, \"Firecracker\": 26,\n",
    "    \"Fire Spirit\": 27, \"Fisherman\": 28, \"Flying Machine\": 29, \"Giant\": 30, \"Giant Skeleton\": 31,\n",
    "    \"Goblin Brawler\": 32, \"Goblin Gang\": 33, \"Goblin Demolisher\": 34, \"Goblin Giant\": 35,\n",
    "    \"Goblin Machine\": 36, \"Goblins\": 37, \"Goblinstein\": 38, \"Golden Knight\": 39, \"Golem\": 40,\n",
    "    \"Golemite\": 41, \"Guardienne\": 42, \"Guards\": 43, \"Hog Rider\": 44, \"Hunter\": 45, \"Heal Spirit\": 46,\n",
    "    \"Ice Golem\": 47, \"Ice Spirit\": 48, \"Ice Wizard\": 49, \"Inferno Dragon\": 50, \"Knight\": 51,\n",
    "    \"Lava Hound\": 52, \"Lava Pup\": 53, \"Little Prince\": 54, \"Lumberjack\": 55, \"Magic Archer\": 56,\n",
    "    \"Mega Knight\": 57, \"Mega Minion\": 58, \"Mighty Miner\": 59, \"Miner\": 60, \"Mini P.E.K.K.A.\": 61,\n",
    "    \"Minion Horde\": 62, \"Minions\": 63, \"Monk\": 64, \"Mother Witch\": 65, \"Monster\": 66, \"Musketeer\": 67,\n",
    "    \"Night Witch\": 68, \"P.E.K.K.A.\": 69, \"Phoenix\": 70, \"Reborn Phoenix\": 71, \"Prince\": 72,\n",
    "    \"Princess\": 73, \"Ram Rider\": 74, \"Rascal Boy\": 75, \"Rascal Girl\": 76, \"Royal Ghost\": 77,\n",
    "    \"Royal Giant\": 78, \"Royal Hogs\": 79, \"Royal Recruits\": 80, \"Skeleton Army\": 81,\n",
    "    \"Skeleton Barrel\": 82, \"Skeleton Dragons\": 83, \"Skeleton King\": 84, \"Skeletons\": 85, \"Sparky\": 86,\n",
    "    \"Spear Goblins\": 87, \"Suspicious Bush\": 88, \"Three Musketeers\": 89, \"Valkyrie\": 90,\n",
    "    \"Wall Breakers\": 91, \"Witch\": 92, \"Wizard\": 93, \"Zappies\": 94,\"Bomb Tower\": 95, \"Cannon\": 96, \"Cannon Cart (broken)\": 97, \"Inferno Tower\": 98, \"Mortar\": 99,\n",
    "        \"Tesla\": 100, \"X-Bow\": 101,\"Barbarian Hut\": 102, \"Elixir Collector\": 103, \"Furnace\": 104, \"Goblin Cage\": 105,\n",
    "        \"Goblin Drill\": 106, \"Goblin Hut\": 107, \"Phoenix Egg\": 108, \"Tombstone\": 109, \"Arrows\": 110, \"Barbarian Barrel\": 111, \"Earthquake\": 112, \"Fireball\": 113, \"Freeze\": 114,\n",
    "        \"Giant Snowball\": 115, \"Goblin Curse\": 116, \"Lightning\": 117, \"Poison\": 118, \"Rage\": 119, \"Rocket\": 120, \"Royal Delivery\": 121, \"The Log\": 122, \"Tornado\": 123, \"Void\": 124, \"Zap\": 125,\n",
    "        \"Barbarian Barrel\": 126, \"Barbarian Hut\": 127, \"Battle Ram\": 128, \"Elixir Golem\": 129,\n",
    "        \"Elixir Golemite\": 130, \"Furnace\": 131, \"Goblin Barrel\": 132, \"Goblin Cage\": 133, \"Goblin Curse\": 134,\n",
    "        \"Goblin Drill\": 135, \"Goblin Giant\": 136, \"Goblin Hut\": 137, \"Golem\": 138, \"Graveyard\": 139,\n",
    "        \"Lava Hound\": 140, \"Little Prince\": 141, \"Mother Witch\": 142, \"Night Witch\": 143,\n",
    "        \"Phoenix Egg\": 144, \"Royal Delivery\": 145, \"Skeleton Barrel\": 146, \"Skeleton King\": 147,\n",
    "        \"Suspicious Bush\": 148, \"Tombstone\": 149, \"Witch\": 150,\n",
    "        \"Archers/Evolution\": 155, \"Barbarians/Evolution\": 156, \"Battle Ram/Evolution\": 157,\n",
    "        \"Bats/Evolution\": 158, \"Bomber/Evolution\": 159, \"Cannon/Evolution\": 160,\n",
    "        \"Electro Dragon/Evolution\": 161, \"Firecracker/Evolution\": 162, \"Giant Snowball/Evolution\": 163,\n",
    "        \"Goblin Barrel/Evolution\": 164, \"Goblin Cage/Evolution\": 165, \"Goblin Drill/Evolution\": 166,\n",
    "        \"Goblin Giant/Evolution\": 167, \"Ice Spirit/Evolution\": 168, \"Knight/Evolution\": 169,\n",
    "        \"Mega Knight/Evolution\": 170, \"Mortar/Evolution\": 171, \"Musketeer/Evolution\": 172,\n",
    "        \"P.E.K.K.A/Evolution\": 173, \"Royal Giant/Evolution\": 174, \"Royal Recruits/Evolution\": 175,\n",
    "        \"Skeletons/Evolution\": 176, \"Tesla/Evolution\": 177, \"Valkyrie/Evolution\": 178,\n",
    "        \"Wall Breakers/Evolution\": 179, \"Wizard/Evolution\": 180, \"Zap/Evolution\": 181\n",
    "\n",
    "}\n",
    "\n",
    "def fetch_battle_log():\n",
    "    \"\"\"Fetch the battle log of the player.\"\"\"\n",
    "    try:\n",
    "        response = requests.get(BATTLE_LOG_URL, headers=HEADERS)\n",
    "        response.raise_for_status()\n",
    "        return response.json()\n",
    "    except requests.exceptions.RequestException as e:\n",
    "        print(f\"Error fetching battle log: {e}\")\n",
    "        return None\n",
    "\n",
    "\n",
    "def deck_to_ids(deck, mapping):\n",
    "    \"\"\"Convert card names in the deck to IDs based on mapping.\"\"\"\n",
    "    return [mapping.get(card[\"name\"], 0) - 1 for card in deck]  # Subtract 1 for zero-based indexing\n",
    "\n",
    "\n",
    "def preprocess_game_data(game_data):\n",
    "    \"\"\"Prepare game data for prediction.\"\"\"\n",
    "    team_deck_ids = deck_to_ids(game_data[\"team\"][0][\"cards\"], card_numbers)\n",
    "\n",
    "    # One-hot encode the deck\n",
    "    num_choices = 181  # Total number of card IDs\n",
    "    one_hot = np.zeros(num_choices, dtype=int)\n",
    "    one_hot[np.array(team_deck_ids)] = 1  # Set indices corresponding to cards to 1\n",
    "\n",
    "    # Create additional features\n",
    "    trophy_difference = game_data[\"team\"][0].get(\"trophies\", 0) - game_data[\"opponent\"][0].get(\"trophies\", 0)\n",
    "    elixir_leaked = game_data[\"team\"][0].get(\"elixirLeaked\", 0)\n",
    "\n",
    "    # Combine features\n",
    "    features = np.concatenate(([trophy_difference, elixir_leaked], one_hot))\n",
    "    return pd.DataFrame([features])\n",
    "\n",
    "\n",
    "def load_model(model_path):\n",
    "    \"\"\"Load the saved XGBoost model from JSON.\"\"\"\n",
    "    model = Booster()\n",
    "    model.load_model(model_path)\n",
    "    return model\n",
    "\n",
    "\n",
    "def determine_outcome(last_game):\n",
    "    \"\"\"Determine the outcome of the last game.\"\"\"\n",
    "    team_crowns = last_game[\"team\"][0].get(\"crowns\", 0)\n",
    "    opponent_crowns = last_game[\"opponent\"][0].get(\"crowns\", 0)\n",
    "\n",
    "    if team_crowns > opponent_crowns:\n",
    "        return \"Victory\"\n",
    "    elif team_crowns < opponent_crowns:\n",
    "        return \"Defeat\"\n",
    "    else:\n",
    "        return \"Draw\"\n",
    "\n",
    "def main():\n",
    "    # Fetch the last game data\n",
    "    battle_log = fetch_battle_log()\n",
    "    if not battle_log or len(battle_log) == 0:\n",
    "        print(\"No battle log available.\")\n",
    "        return\n",
    "\n",
    "    last_game = battle_log[0]  # Most recent game\n",
    "    print(\"Last game retrieved:\", last_game)\n",
    "\n",
    "\n",
    "    # Preprocess the game data\n",
    "    game_data = preprocess_game_data(last_game)\n",
    "    print(\"Processed game data for prediction:\", game_data)\n",
    "\n",
    "    # Load the trained model\n",
    "    model = load_model(MODEL_PATH)\n",
    "\n",
    "    \n",
    "    # Determine the outcome of the last game\n",
    "    outcome = determine_outcome(last_game)\n",
    "    print(f\"Outcome of the last game: {outcome}\")\n",
    "\n",
    "    # Make predictions\n",
    "    dmatrix = DMatrix(game_data)  # Convert data to DMatrix format\n",
    "    prediction = model.predict(dmatrix)\n",
    "    print(f\"Prediction for the last game: {prediction}\")\n",
    "\n",
    "\n",
    "if __name__ == \"__main__\":\n",
    "    main()\n"
   ]
  }
 ],
 "metadata": {
  "kernelspec": {
   "display_name": "CLashRoyale",
   "language": "python",
   "name": "python3"
  },
  "language_info": {
   "codemirror_mode": {
    "name": "ipython",
    "version": 3
   },
   "file_extension": ".py",
   "mimetype": "text/x-python",
   "name": "python",
   "nbconvert_exporter": "python",
   "pygments_lexer": "ipython3",
   "version": "3.10.16"
  }
 },
 "nbformat": 4,
 "nbformat_minor": 2
}
