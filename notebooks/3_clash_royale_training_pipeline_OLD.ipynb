{
 "cells": [
  {
   "cell_type": "code",
   "execution_count": 54,
   "metadata": {},
   "outputs": [
    {
     "name": "stdout",
     "output_type": "stream",
     "text": [
      "2025-01-05 23:07:47,498 INFO: Closing external client and cleaning up certificates.\n",
      "Connection closed.\n",
      "2025-01-05 23:07:47,504 INFO: Initializing external client\n",
      "2025-01-05 23:07:47,506 INFO: Base URL: https://c.app.hopsworks.ai:443\n",
      "2025-01-05 23:07:48,965 INFO: Python Engine initialized.\n",
      "\n",
      "Logged in to project, explore it here https://c.app.hopsworks.ai:443/p/1175700\n"
     ]
    }
   ],
   "source": [
    "import os\n",
    "from datetime import datetime\n",
    "import pandas as pd\n",
    "import matplotlib.pyplot as plt\n",
    "from xgboost import XGBRegressor\n",
    "from xgboost import plot_importance\n",
    "from sklearn.metrics import mean_squared_error, r2_score\n",
    "import hopsworks\n",
    "\n",
    "\n",
    "import warnings\n",
    "warnings.filterwarnings(\"ignore\")\n",
    "\n",
    "# 1. Read your Hopsworks API Key from a file or environment variable\n",
    "#    For example, if stored in 'hopsworks-api-key.txt'\n",
    "with open('../data/hopsworks-api-key.txt', 'r') as f:\n",
    "    api_key = f.read().strip()\n",
    "\n",
    "# 2. Set the environment variable for Hopsworks\n",
    "os.environ[\"HOPSWORKS_API_KEY\"] = api_key\n",
    "\n",
    "project = hopsworks.login()\n",
    "fs = project.get_feature_store()\n",
    "\n",
    "# Retrieve feature groups for Clash Royale\n",
    "player_stats_fg = fs.get_feature_group(\n",
    "    name='clash_royale_onehotencoding',\n",
    "    version=4,\n",
    ")\n",
    "game_events_fg = fs.get_feature_group(\n",
    "    name='clash_royale_dataset_onehotencoding',\n",
    "    version=4,\n",
    ")\n"
   ]
  },
  {
   "cell_type": "code",
   "execution_count": 48,
   "metadata": {},
   "outputs": [],
   "source": [
    "# Select all columns and add prefixes manually\n",
    "player_stats = player_stats_fg.select_all()\n",
    "game_events = game_events_fg.select_all()\n",
    "\n",
    "\n",
    "feature_view = fs.get_or_create_feature_view(\n",
    "    name='clash_royale_fv',\n",
    "    description=\"Clash Royale game prediction features\",\n",
    "    version=1,\n",
    "    labels=['player_name'],\n",
    "    query=player_stats,\n",
    ")\n"
   ]
  },
  {
   "cell_type": "code",
   "execution_count": 66,
   "metadata": {},
   "outputs": [
    {
     "name": "stdout",
     "output_type": "stream",
     "text": [
      "MSE: 0.0\n",
      "R2: 1.0\n"
     ]
    }
   ],
   "source": [
    "from sklearn.preprocessing import LabelEncoder\n",
    "import pandas as pd\n",
    "\n",
    "# Identify and encode categorical columns\n",
    "categorical_columns = ['deck', 'deck2', 'result2']  # Replace with actual columns\n",
    "encoder = LabelEncoder()\n",
    "\n",
    "# Combine train and test data for fitting the encoder\n",
    "combined_data = pd.concat([X_train, X_test])\n",
    "\n",
    "for col in categorical_columns:\n",
    "    encoder.fit(combined_data[col].astype(str))\n",
    "    X_train[col] = encoder.transform(X_train[col].astype(str))\n",
    "    X_test[col] = encoder.transform(X_test[col].astype(str))\n",
    "\n",
    "# Convert player_name2 to category type\n",
    "X_train['player_name2'] = X_train['player_name2'].astype('category')\n",
    "X_test['player_name2'] = X_test['player_name2'].astype('category')\n",
    "\n",
    "# Train the model\n",
    "xgb_regressor = XGBRegressor(enable_categorical=True)\n",
    "xgb_regressor.fit(X_train, y_train)\n",
    "\n",
    "# Predict and evaluate\n",
    "y_pred = xgb_regressor.predict(X_test)\n",
    "print(f\"MSE: {mean_squared_error(y_test, y_pred)}\")\n",
    "print(f\"R2: {r2_score(y_test, y_pred)}\")\n"
   ]
  },
  {
   "cell_type": "code",
   "execution_count": 65,
   "metadata": {},
   "outputs": [
    {
     "name": "stdout",
     "output_type": "stream",
     "text": [
      "MAE: 0.0\n",
      "RMSE: 0.0\n",
      "R²: 1.0\n"
     ]
    }
   ],
   "source": [
    "from sklearn.metrics import mean_absolute_error, mean_squared_error, r2_score\n",
    "import numpy as np\n",
    "\n",
    "mae = mean_absolute_error(y_test, y_pred)\n",
    "mse = mean_squared_error(y_test, y_pred)\n",
    "rmse = np.sqrt(mse)\n",
    "print(f\"MAE: {mae}\")\n",
    "print(f\"RMSE: {rmse}\")\n",
    "print(f\"R²: {r2_score(y_test, y_pred)}\")\n"
   ]
  }
 ],
 "metadata": {
  "kernelspec": {
   "display_name": "CLashRoyale",
   "language": "python",
   "name": "python3"
  },
  "language_info": {
   "codemirror_mode": {
    "name": "ipython",
    "version": 3
   },
   "file_extension": ".py",
   "mimetype": "text/x-python",
   "name": "python",
   "nbconvert_exporter": "python",
   "pygments_lexer": "ipython3",
   "version": "3.10.15"
  }
 },
 "nbformat": 4,
 "nbformat_minor": 2
}
